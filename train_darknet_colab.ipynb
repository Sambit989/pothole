{
 "cells": [
  {
   "cell_type": "markdown",
   "metadata": {},
   "source": [
    "# YOLOv4 Training & Inference (Colab) — Darknet (AlexeyAB)\n",
    "This notebook automates training YOLOv4 on the **JayGala pothole dataset** using AlexeyAB's Darknet in Google Colab (GPU). It also shows inference and the dimension estimation pipeline from the paper.\n",
    "\n",
    "**Notes:**\n",
    "- Run this notebook in Google Colab with a GPU runtime (Runtime → Change runtime type → GPU).\n",
    "- The notebook compiles Darknet in Colab and trains using the provided `yolov4.cfg` adapted for `classes=1`.\n",
    "- You can also modify steps to use a PyTorch YOLOv4 repo instead, but this notebook uses Darknet for fidelity with the paper.\n"
   ]
  },
  {
   "cell_type": "code",
   "execution_count": 1,
   "metadata": {},
   "outputs": [
    {
     "name": "stdout",
     "output_type": "stream",
     "text": [
      "c:\\content\\darknet\n"
     ]
    },
    {
     "name": "stderr",
     "output_type": "stream",
     "text": [
      "fatal: destination path '/content/darknet' already exists and is not an empty directory.\n",
      "'sed' is not recognized as an internal or external command,\n",
      "operable program or batch file.\n",
      "'sed' is not recognized as an internal or external command,\n",
      "operable program or batch file.\n",
      "'sed' is not recognized as an internal or external command,\n",
      "operable program or batch file.\n",
      "'sed' is not recognized as an internal or external command,\n",
      "operable program or batch file.\n",
      "'sed' is not recognized as an internal or external command,\n",
      "operable program or batch file.\n",
      "'sed' is not recognized as an internal or external command,\n",
      "operable program or batch file.\n",
      "'sed' is not recognized as an internal or external command,\n",
      "operable program or batch file.\n",
      "'sed' is not recognized as an internal or external command,\n",
      "operable program or batch file.\n",
      "'sed' is not recognized as an internal or external command,\n",
      "operable program or batch file.\n",
      "'sed' is not recognized as an internal or external command,\n",
      "operable program or batch file.\n",
      "'make' is not recognized as an internal or external command,'make' is not recognized as an internal or external command,"
     ]
    },
    {
     "name": "stdout",
     "output_type": "stream",
     "text": [
      "c:\\content\n"
     ]
    },
    {
     "name": "stderr",
     "output_type": "stream",
     "text": [
      "\n",
      "operable program or batch file.\n"
     ]
    }
   ],
   "source": [
    "# 1) Setup: clone darknet (AlexeyAB) and compile with GPU/CUDNN support in Colab\n",
    "!git clone https://github.com/AlexeyAB/darknet.git /content/darknet\n",
    "%cd /content/darknet\n",
    "# Enable GPU and CUDNN in Makefile (Colab has CUDA available). We edit the Makefile to enable GPU, CUDNN, OPENCV\n",
    "!sed -i 's/GPU=0/GPU=1/' Makefile\n",
    "!sed -i 's/CUDNN=0/CUDNN=1/' Makefile\n",
    "!sed -i 's/CUDNN_HALF=0/CUDNN_HALF=1/' Makefile\n",
    "!sed -i 's/OPENCV=0/OPENCV=1/' Makefile\n",
    "!sed -i 's/LIBSO=0/LIBSO=1/' Makefile\n",
    "# compile (this may take a few minutes)\n",
    "!make -j$(nproc)\n",
    "%cd /content\n"
   ]
  },
  {
   "cell_type": "code",
   "execution_count": 2,
   "metadata": {},
   "outputs": [
    {
     "name": "stderr",
     "output_type": "stream",
     "text": [
      "'wget' is not recognized as an internal or external command,\n",
      "operable program or batch file.\n",
      "'true' is not recognized as an internal or external command,\n",
      "operable program or batch file.\n"
     ]
    },
    {
     "name": "stderr",
     "output_type": "stream",
     "text": [
      "'ls' is not recognized as an internal or external command,\n",
      "operable program or batch file.\n"
     ]
    }
   ],
   "source": [
    "# 2) Download pre-trained convolutional weights (helps faster convergence)\n",
    "!wget -O /content/darknet/yolov4.conv.137 https://pjreddie.com/media/files/yolov4.conv.137 || true\n",
    "!ls -lh /content/darknet/yolov4.conv.137\n"
   ]
  },
  {
   "cell_type": "code",
   "execution_count": null,
   "metadata": {},
   "outputs": [
    {
     "name": "stderr",
     "output_type": "stream",
     "text": [
      "fatal: destination path '/content/dataset/jaygala' already exists and is not an empty directory.\n",
      "'true' is not recognized as an internal or external command,\n",
      "operable program or batch file.\n",
      "'ls' is not recognized as an internal or external command,\n",
      "operable program or batch file.\n",
      "'ls' is not recognized as an internal or external command,\n",
      "operable program or batch file.\n"
     ]
    }
   ],
   "source": [
    "# 3) Clone JayGala pothole dataset into /content/dataset/jaygala\n",
    "!git clone https://github.com/jaygala24/pothole-detection.git /content/dataset/jaygala || true\n",
    "!ls -la /content/dataset/jaygala | head -n 40\n"
   ]
  },
  {
   "cell_type": "code",
   "execution_count": 4,
   "metadata": {},
   "outputs": [
    {
     "name": "stdout",
     "output_type": "stream",
     "text": [
      "Found 0 images and 0 txt label files\n",
      "Copied 0 images to /content/darknet/data/obj\n"
     ]
    }
   ],
   "source": [
    "# 4) Prepare darknet dataset structure (data/obj contains images and labels)\n",
    "import os, shutil, glob\n",
    "src = '/content/dataset/jaygala'\n",
    "dst = '/content/darknet/data/obj'\n",
    "os.makedirs(dst, exist_ok=True)\n",
    "# The JayGala repo typically contains images in 'images' and labels in 'labels' or similar.\n",
    "imgs = glob.glob(os.path.join(src, '**', '*.jpg'), recursive=True) + glob.glob(os.path.join(src, '**','*.png'), recursive=True)\n",
    "labels = glob.glob(os.path.join(src, '**', '*.txt'), recursive=True)\n",
    "print('Found', len(imgs), 'images and', len(labels), 'txt label files')\n",
    "# Copy images and labels - careful to only copy matching pairs\n",
    "copied = 0\n",
    "for img in imgs:\n",
    "    base = os.path.splitext(os.path.basename(img))[0]\n",
    "    # try multiple label name patterns\n",
    "    label_candidates = [os.path.join(os.path.dirname(img), base+'.txt'), os.path.join(src, base+'.txt')]\n",
    "    target_img = os.path.join(dst, os.path.basename(img))\n",
    "    shutil.copy(img, target_img)\n",
    "    # attempt to copy label\n",
    "    for l in label_candidates:\n",
    "        if os.path.exists(l):\n",
    "            shutil.copy(l, os.path.join(dst, os.path.basename(l)))\n",
    "            break\n",
    "    copied += 1\n",
    "print('Copied', copied, 'images to', dst)\n",
    "!\n"
   ]
  },
  {
   "cell_type": "code",
   "execution_count": 5,
   "metadata": {},
   "outputs": [
    {
     "name": "stdout",
     "output_type": "stream",
     "text": [
      "Wrote 0 to /content/darknet/data/train.txt\n",
      "Created obj.data and obj.names\n"
     ]
    }
   ],
   "source": [
    "# 5) Create train.txt (list of image paths), obj.names (class names) and obj.data\n",
    "import glob\n",
    "img_paths = glob.glob('/content/darknet/data/obj/*.jpg') + glob.glob('/content/darknet/data/obj/*.png')\n",
    "train_txt = '/content/darknet/data/train.txt'\n",
    "with open(train_txt, 'w') as f:\n",
    "    for p in img_paths:\n",
    "        f.write(p+'\\n')\n",
    "print('Wrote', len(img_paths), 'to', train_txt)\n",
    "# write obj.names\n",
    "with open('/content/darknet/data/obj.names','w') as f:\n",
    "    f.write('pothole\\n')\n",
    "# write obj.data\n",
    "with open('/content/darknet/data/obj.data','w') as f:\n",
    "    f.write('classes = 1\\n')\n",
    "    f.write('train = data/train.txt\\n')\n",
    "    f.write('valid = data/train.txt\\n')\n",
    "    f.write('names = data/obj.names\\n')\n",
    "    f.write('backup = /content/darknet/backup\\n')\n",
    "print('Created obj.data and obj.names')\n"
   ]
  },
  {
   "cell_type": "code",
   "execution_count": 6,
   "metadata": {},
   "outputs": [
    {
     "name": "stdout",
     "output_type": "stream",
     "text": [
      "yolov4.cfg not found. Please upload or copy it to /content/pothole_project/\n",
      "\n"
     ]
    }
   ],
   "source": [
    "import re, os\n",
    "cfg_src = '/content/pothole_project/yolov4.cfg'\n",
    "cfg_dst = '/content/darknet/cfg/yolov4_pothole.cfg'\n",
    "os.makedirs('/content/darknet/cfg', exist_ok=True)\n",
    "if not os.path.exists(cfg_src):\n",
    "    print('yolov4.cfg not found. Please upload or copy it to /content/pothole_project/')\n",
    "    # If running locally, upload/copy manually\n",
    "else:\n",
    "    with open(cfg_src,'r') as f:\n",
    "        cfg = f.read()\n",
    "    cfg = re.sub(r'max_batches\\\\s*=\\\\s*\\\\d+', 'max_batches = 6000', cfg)\n",
    "    with open(cfg_dst,'w') as f:\n",
    "        f.write(cfg)\n",
    "    print('Wrote patched cfg to', cfg_dst)"
   ]
  },
  {
   "cell_type": "code",
   "execution_count": 7,
   "metadata": {},
   "outputs": [
    {
     "name": "stdout",
     "output_type": "stream",
     "text": [
      "Training started in background. Check Darknet output in the notebook logs (tail -f /content/darknet/chart.png or use !tail -f ...)\n"
     ]
    }
   ],
   "source": [
    "# 7) Training command (run this cell to start training). Training will use yolov4.conv.137 as pretrained weights.\n",
    "get_ipython().system_raw('./darknet/darknet detector train /content/darknet/data/obj.data /content/darknet/cfg/yolov4_pothole.cfg /content/darknet/yolov4.conv.137 -dont_show -map &')\n",
    "print('Training started in background. Check Darknet output in the notebook logs (tail -f /content/darknet/chart.png or use !tail -f ...)')\n"
   ]
  },
  {
   "cell_type": "code",
   "execution_count": 8,
   "metadata": {},
   "outputs": [
    {
     "name": "stdout",
     "output_type": "stream",
     "text": [
      "Run this once you have weights: /content/darknet/backup/yolov4_pothole_last.weights\n",
      "Prediction image not found; check detection command output or replace sample_img with a valid image\n",
      "Prediction image not found; check detection command output or replace sample_img with a valid image\n"
     ]
    },
    {
     "name": "stderr",
     "output_type": "stream",
     "text": [
      "'.' is not recognized as an internal or external command,\n",
      "operable program or batch file.\n",
      "'true' is not recognized as an internal or external command,\n",
      "operable program or batch file.\n"
     ]
    }
   ],
   "source": [
    "# 8) After training, run inference on a sample image (replace with your image path)\n",
    "sample_img = '/content/darknet/data/obj/000001.jpg'  # change if not present\n",
    "output_img = '/content/darknet/pred.jpg'\n",
    "# weights path - change to your latest backup weights (e.g., /content/darknet/backup/yolov4_pothole_final.weights)\n",
    "weights = '/content/darknet/backup/yolov4_pothole_last.weights'\n",
    "print('Run this once you have weights:', weights)\n",
    "!./darknet/darknet detector test /content/darknet/data/obj.data /content/darknet/cfg/yolov4_pothole.cfg {weights} {sample_img} -dont_show -ext_output -out /content/darknet/predictions.json || true\n",
    "from IPython.display import Image, display\n",
    "if os.path.exists('/content/darknet/pred.jpg'):\n",
    "    display(Image('/content/darknet/pred.jpg'))\n",
    "else:\n",
    "    print('Prediction image not found; check detection command output or replace sample_img with a valid image')\n"
   ]
  },
  {
   "cell_type": "code",
   "execution_count": 9,
   "metadata": {},
   "outputs": [
    {
     "name": "stdout",
     "output_type": "stream",
     "text": [
      "No predictions.json found. Run the detection command from previous cell producing -out predictions.json\n"
     ]
    }
   ],
   "source": [
    "# 9) Example: parse darknet JSON output and compute sizes using triangular similarity\n",
    "import json, os\n",
    "pred_json = '/content/darknet/predictions.json'\n",
    "if os.path.exists(pred_json):\n",
    "    preds = json.load(open(pred_json))\n",
    "    # predictions are in COCO-like format per image; we'll extract bounding boxes\n",
    "    for img_pred in preds:\n",
    "        img_path = img_pred.get('image_id')\n",
    "        predictions = img_pred.get('objects', [])\n",
    "        print('Image:', img_path, 'detections:', len(predictions))\n",
    "        # Example: compute sizes using the dimension_estimation.py functions (we'll copy module into /content)\n",
    "else:\n",
    "    print('No predictions.json found. Run the detection command from previous cell producing -out predictions.json')\n"
   ]
  },
  {
   "cell_type": "code",
   "execution_count": 12,
   "metadata": {},
   "outputs": [
    {
     "name": "stderr",
     "output_type": "stream",
     "text": [
      "'cp' is not recognized as an internal or external command,\n",
      "operable program or batch file.\n",
      "'true' is not recognized as an internal or external command,\n",
      "operable program or batch file.\n"
     ]
    },
    {
     "ename": "ModuleNotFoundError",
     "evalue": "No module named 'dimension_estimation'",
     "output_type": "error",
     "traceback": [
      "\u001b[31m---------------------------------------------------------------------------\u001b[39m",
      "\u001b[31mModuleNotFoundError\u001b[39m                       Traceback (most recent call last)",
      "\u001b[36mCell\u001b[39m\u001b[36m \u001b[39m\u001b[32mIn[12]\u001b[39m\u001b[32m, line 5\u001b[39m\n\u001b[32m      3\u001b[39m sys.path.append(\u001b[33m'\u001b[39m\u001b[33m/content\u001b[39m\u001b[33m'\u001b[39m)  \u001b[38;5;66;03m# Ensure /content is in Python path\u001b[39;00m\n\u001b[32m      4\u001b[39m get_ipython().system(\u001b[33m'\u001b[39m\u001b[33mcp -v /content/pothole_project/dimension_estimation.py /content/dimension_estimation.py || true\u001b[39m\u001b[33m'\u001b[39m)\n\u001b[32m----> \u001b[39m\u001b[32m5\u001b[39m \u001b[38;5;28;01mfrom\u001b[39;00m\u001b[38;5;250m \u001b[39m\u001b[34;01mdimension_estimation\u001b[39;00m\u001b[38;5;250m \u001b[39m\u001b[38;5;28;01mimport\u001b[39;00m compute_perceived_focal_length, pixels_to_cm\n\u001b[32m      6\u001b[39m \u001b[38;5;28mprint\u001b[39m(\u001b[33m'\u001b[39m\u001b[33mModule imported. Example: compute focal length:\u001b[39m\u001b[33m'\u001b[39m)\n\u001b[32m      7\u001b[39m P = \u001b[32m200\u001b[39m  \u001b[38;5;66;03m# pixel width measured of known object in image\u001b[39;00m\n",
      "\u001b[31mModuleNotFoundError\u001b[39m: No module named 'dimension_estimation'"
     ]
    }
   ],
   "source": [
    "# 10) Copy the dimension_estimation module from the project into /content and show an example usage\n",
    "import sys, os\n",
    "sys.path.append('/content')  # Ensure /content is in Python path\n",
    "!cp -v /content/pothole_project/dimension_estimation.py /content/dimension_estimation.py || true\n",
    "from dimension_estimation import compute_perceived_focal_length, pixels_to_cm\n",
    "print('Module imported. Example: compute focal length:')\n",
    "P = 200  # pixel width measured of known object in image\n",
    "W = 30.0 # known real width in cm\n",
    "D = 90.0 # distance in cm (camera height)\n",
    "F = compute_perceived_focal_length(P, W, D)\n",
    "print('Perceived focal length F =', F)\n",
    "print('Convert a bbox width of 120 pixels to cm:', pixels_to_cm(120, F, D))"
   ]
  },
  {
   "cell_type": "code",
   "execution_count": null,
   "metadata": {},
   "outputs": [
    {
     "name": "stdout",
     "output_type": "stream",
     "text": [
      "Prediction image not found; check detection command output or uploaded image path.\n"
     ]
    },
    {
     "name": "stderr",
     "output_type": "stream",
     "text": [
      "'.' is not recognized as an internal or external command,\n",
      "operable program or batch file.\n",
      "'true' is not recognized as an internal or external command,\n",
      "operable program or batch file.\n"
     ]
    }
   ],
   "source": [
    "# If running locally, manually set the image path\n",
    "img_path = '/content/your_image.jpg'  # Change to your image path\n",
    "\n",
    "# Run Darknet prediction\n",
    "cfg_path = '/content/darknet/cfg/yolov4_pothole.cfg'\n",
    "data_path = '/content/darknet/data/obj.data'\n",
    "weights_path = '/content/darknet/backup/yolov4_pothole_last.weights'  # Change to your weights\n",
    "output_img = '/content/darknet/pred.jpg'\n",
    "!./darknet/darknet detector test {data_path} {cfg_path} {weights_path} {img_path} -dont_show -ext_output -out /content/darknet/predictions.json || true\n",
    "\n",
    "# Show prediction result\n",
    "from IPython.display import display, Image as IPyImage\n",
    "import os\n",
    "if os.path.exists(output_img):\n",
    "    display(IPyImage(output_img))\n",
    "else:\n",
    "    print('Prediction image not found; check detection command output or uploaded image path.')"
   ]
  },
  {
   "cell_type": "code",
   "execution_count": null,
   "metadata": {},
   "outputs": [
    {
     "ename": "ModuleNotFoundError",
     "evalue": "No module named 'ipywidgets'",
     "output_type": "error",
     "traceback": [
      "\u001b[31m---------------------------------------------------------------------------\u001b[39m",
      "\u001b[31mModuleNotFoundError\u001b[39m                       Traceback (most recent call last)",
      "\u001b[36mCell\u001b[39m\u001b[36m \u001b[39m\u001b[32mIn[13]\u001b[39m\u001b[32m, line 7\u001b[39m\n\u001b[32m      5\u001b[39m \u001b[38;5;28;01mimport\u001b[39;00m\u001b[38;5;250m \u001b[39m\u001b[34;01mos\u001b[39;00m\n\u001b[32m      6\u001b[39m \u001b[38;5;28;01mfrom\u001b[39;00m\u001b[38;5;250m \u001b[39m\u001b[34;01mIPython\u001b[39;00m\u001b[34;01m.\u001b[39;00m\u001b[34;01mdisplay\u001b[39;00m\u001b[38;5;250m \u001b[39m\u001b[38;5;28;01mimport\u001b[39;00m display, Image \u001b[38;5;28;01mas\u001b[39;00m IPyImage\n\u001b[32m----> \u001b[39m\u001b[32m7\u001b[39m \u001b[38;5;28;01mimport\u001b[39;00m\u001b[38;5;250m \u001b[39m\u001b[34;01mipywidgets\u001b[39;00m\u001b[38;5;250m \u001b[39m\u001b[38;5;28;01mas\u001b[39;00m\u001b[38;5;250m \u001b[39m\u001b[34;01mwidgets\u001b[39;00m\n\u001b[32m      9\u001b[39m file_upload = widgets.FileUpload(accept=\u001b[33m'\u001b[39m\u001b[33m.jpg,.png\u001b[39m\u001b[33m'\u001b[39m, multiple=\u001b[38;5;28;01mFalse\u001b[39;00m)\n\u001b[32m     10\u001b[39m predict_btn = widgets.Button(description=\u001b[33m'\u001b[39m\u001b[33mUpload & Predict\u001b[39m\u001b[33m'\u001b[39m)\n",
      "\u001b[31mModuleNotFoundError\u001b[39m: No module named 'ipywidgets'"
     ]
    }
   ],
   "source": [
    "# Fix for ipywidgets FileUpload in Colab/Jupyter\n",
    "# This cell works in Jupyter, but Colab's FileUpload returns bytes differently.\n",
    "# If you get an error, use this version for Colab:\n",
    "\n",
    "import os\n",
    "from IPython.display import display, Image as IPyImage\n",
    "import ipywidgets as widgets\n",
    "\n",
    "file_upload = widgets.FileUpload(accept='.jpg,.png', multiple=False)\n",
    "predict_btn = widgets.Button(description='Upload & Predict')\n",
    "\n",
    "# Works in Jupyter (ipywidgets >=7.6)\n",
    "def predict_image(change=None):\n",
    "    if not file_upload.value:\n",
    "        print('No file uploaded.')\n",
    "        return\n",
    "    # For Jupyter: file_upload.value is a dict of filename: dict\n",
    "    # For Colab: file_upload.value is a list of dicts\n",
    "    try:\n",
    "        # Try Jupyter style\n",
    "        fname = list(file_upload.value.keys())[0]\n",
    "        content = file_upload.value[fname]['content']\n",
    "    except Exception:\n",
    "        # Try Colab style\n",
    "        fname = file_upload.value[0]['metadata']['name']\n",
    "        content = file_upload.value[0]['content']\n",
    "    img_path = f\"/content/{fname}\"\n",
    "    with open(img_path, \"wb\") as f:\n",
    "        f.write(content)\n",
    "    print(f\"Image saved to {img_path}\")\n",
    "    # Run Darknet prediction\n",
    "    cfg_path = '/content/darknet/cfg/yolov4_pothole.cfg'\n",
    "    data_path = '/content/darknet/data/obj.data'\n",
    "    weights_path = '/content/darknet/backup/yolov4_pothole_last.weights'  # Change to your weights\n",
    "    output_img = '/content/darknet/pred.jpg'\n",
    "    os.system(f\"./darknet/darknet detector test {data_path} {cfg_path} {weights_path} {img_path} -dont_show -ext_output -out /content/darknet/predictions.json\")\n",
    "    if os.path.exists(output_img):\n",
    "        display(IPyImage(output_img))\n",
    "    else:\n",
    "        print('Prediction image not found; check detection command output or uploaded image path.')\n",
    "\n",
    "predict_btn.on_click(predict_image)\n",
    "display(file_upload, predict_btn)"
   ]
  }
 ],
 "metadata": {
  "kernelspec": {
   "display_name": "venv",
   "language": "python",
   "name": "python3"
  },
  "language_info": {
   "codemirror_mode": {
    "name": "ipython",
    "version": 3
   },
   "file_extension": ".py",
   "mimetype": "text/x-python",
   "name": "python",
   "nbconvert_exporter": "python",
   "pygments_lexer": "ipython3",
   "version": "3.12.10"
  }
 },
 "nbformat": 4,
 "nbformat_minor": 2
}
